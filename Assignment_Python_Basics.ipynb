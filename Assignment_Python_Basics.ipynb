{
  "nbformat": 4,
  "nbformat_minor": 0,
  "metadata": {
    "colab": {
      "provenance": []
    },
    "kernelspec": {
      "name": "python3",
      "display_name": "Python 3"
    },
    "language_info": {
      "name": "python"
    }
  },
  "cells": [
    {
      "cell_type": "markdown",
      "source": [
        "### **Assignment : Python Basics**\n",
        "*Python Basics Questions*\n",
        "\n",
        "1- What is Python, and why is it popular?\n",
        "\n",
        "   -> Python is a opensource multipurpose programming language which is popular because it is easy to understand and can be used for multiple applications like web development, data science, data analytics, artificial intelligence, machine learning etc.\n",
        "\n",
        "2- What is an interpreter in Python?\n",
        "\n",
        "   ->  an interpreter is a program that reads and executes Python code line by line. Instead of compiling the entire program into machine code at once.\n",
        "   The interpreter processes the code one line at a time, translating it into machine code and executing it immediately. This differs from compiled languages, where the code is translated into machine code all at once before execution.\n",
        "\n",
        "3- What are pre-defined keywords in Python?\n",
        "\n",
        "   -> Pre-defined keywords in python are reserved words in python which have a specific meaning and  cannot be used as variable name, class name and fuction name.\n",
        "\n",
        "4- Can keywords be used as variable names?\n",
        "\n",
        "   -> No\n",
        "\n",
        "5- What is mutability in Python?\n",
        "\n",
        "   -> Mutability in python means an object can be changed after it is created. List is one of the example which is mutable.\n",
        "\n",
        "6- Why are lists mutable, but tuples are immutable?\n",
        "\n",
        "   -> Lists are mutable because we can change its value after it is created but in case of tuples we cannot change its value after it is created, so it is immutable.\n",
        "\n",
        "7- What is the difference between “==” and “is” operators in Python?\n",
        "\n",
        "\n",
        "   -> We use == when we want to check if the values of two objects are equal.\n",
        "      We use 'is' when we want to check if two variables refer to the same object (i.e., they have the same memory address).\n",
        "   \n",
        "8- What are logical operators in Python?\n",
        "\n",
        "   -> In Python, logical operators are used to perform logical operations on boolean values (True or False).\n",
        "   There are three logfical operators in python:\n",
        "   a) and - return ture if all conditions are true\n",
        "   b) or - return true when at  least one condition is true\n",
        "   c) not - reverse true to false and false to true.\n",
        "  \n",
        "9- What is type casting in Python?\n",
        "\n",
        "  \n",
        "   Type casting in Python refers to the process of converting one data type into another.\n",
        "\n",
        "10- What is the difference between implicit and explicit type casting?\n",
        "    \n",
        "  -> Implicit type casting is automatically done by python but in explicit type casting we manually convert the data type from one to another.\n",
        "  Example of explicit type casting- a=3.5\n",
        "                                    int(a)\n",
        "\n",
        "11- What is the purpose of conditional statements in Python?\n",
        "\n",
        "Conditional statements in Python are used to make decisions in your program. They allow the program to execute different blocks of code based on certain conditions or criteria, which can be evaluated as True or False. These statements enable your program to respond dynamically to various situations, making it more flexible and interactive.\n",
        "\n",
        "12- How does the elif statement work?\n",
        "\n",
        "  -> if condition of elif is true then its code will be executed other wise it will go to the next code. If all elif is false then it will execute else code.\n",
        "\n",
        "13- What is the difference between for and while loops?\n",
        "\n",
        "   -> for loop iterates over a sequence and while loop continues untill the statement is true.\n",
        "\n",
        "14- Describe a scenario where a while loop is more suitable than a for loop?\n",
        "\n",
        "  A while loop is more suitable when you need to keep asking for user input until a valid input is received. In this case, you don’t know in advance how many times the user might need to be prompted for input. The loop should continue running as long as the input is invalid, and it stops only when the input meets the required criteria.\n",
        "  \n",
        "\n",
        "\n",
        "\n",
        "\n"
      ],
      "metadata": {
        "id": "Uzr-3LCyXoAa"
      }
    },
    {
      "cell_type": "markdown",
      "source": [
        "**Practical Questions**\n",
        "\n",
        "1- Write a Python program to print \"Hello, World!\".\n"
      ],
      "metadata": {
        "id": "KYTvvpZLrwMf"
      }
    },
    {
      "cell_type": "code",
      "source": [
        "print(\"Hello, World!\")"
      ],
      "metadata": {
        "colab": {
          "base_uri": "https://localhost:8080/"
        },
        "id": "sJiBVOqPsLFv",
        "outputId": "a6ef6bdc-37d3-484f-d42b-2e7f5826c343"
      },
      "execution_count": null,
      "outputs": [
        {
          "output_type": "stream",
          "name": "stdout",
          "text": [
            "Hello, World!\n"
          ]
        }
      ]
    },
    {
      "cell_type": "code",
      "source": [],
      "metadata": {
        "id": "PgDrK4busVow"
      },
      "execution_count": null,
      "outputs": []
    },
    {
      "cell_type": "markdown",
      "source": [
        "2- Write a Python program that displays your name and age?\n"
      ],
      "metadata": {
        "id": "IvX0wuOJtKck"
      }
    },
    {
      "cell_type": "code",
      "source": [
        "name = 'Mohammad Umair'\n",
        "age = 27\n",
        "print(f'My name is {name} and my age is {age}')\n"
      ],
      "metadata": {
        "colab": {
          "base_uri": "https://localhost:8080/"
        },
        "id": "VewTjNlNtQvn",
        "outputId": "cb173b00-c50d-46d6-e1be-2f64511ad57b"
      },
      "execution_count": null,
      "outputs": [
        {
          "output_type": "stream",
          "name": "stdout",
          "text": [
            "My name is Mohammad Umair and my age is 27\n"
          ]
        }
      ]
    },
    {
      "cell_type": "markdown",
      "source": [
        "3- Write code to print all the pre-defined keywords in Python using the keyword library?\n"
      ],
      "metadata": {
        "id": "K7qOnzldubs2"
      }
    },
    {
      "cell_type": "code",
      "source": [
        "# Importing the keyword library\n",
        "import keyword\n",
        "\n",
        "# Print all the keywords in Python\n",
        "print(\"Python's pre-defined keywords are:\")\n",
        "print(keyword.kwlist)"
      ],
      "metadata": {
        "colab": {
          "base_uri": "https://localhost:8080/"
        },
        "id": "kn7fstIttawg",
        "outputId": "eeefae38-0718-48fd-98a3-784214f45c8c"
      },
      "execution_count": null,
      "outputs": [
        {
          "output_type": "stream",
          "name": "stdout",
          "text": [
            "Python's pre-defined keywords are:\n",
            "['False', 'None', 'True', 'and', 'as', 'assert', 'async', 'await', 'break', 'class', 'continue', 'def', 'del', 'elif', 'else', 'except', 'finally', 'for', 'from', 'global', 'if', 'import', 'in', 'is', 'lambda', 'nonlocal', 'not', 'or', 'pass', 'raise', 'return', 'try', 'while', 'with', 'yield']\n"
          ]
        }
      ]
    },
    {
      "cell_type": "markdown",
      "source": [
        "4- Write a program that checks if a given word is a Python keyword?\n",
        "\n"
      ],
      "metadata": {
        "id": "Kpe6z9x7Xhgj"
      }
    },
    {
      "cell_type": "code",
      "source": [
        "import keyword\n",
        "word = input(\"enter a word to check if it is a python keyword : \")\n",
        "\n",
        "if  word in keyword.kwlist :\n",
        "  print(f\"{word} is a python keyword\")\n",
        "else :\n",
        "  print(f\"{word} is not a python keyword\")"
      ],
      "metadata": {
        "colab": {
          "base_uri": "https://localhost:8080/"
        },
        "id": "BhJ5IzL6uVJw",
        "outputId": "ed00cf50-db65-42f1-dbd9-0411f7c6f658"
      },
      "execution_count": null,
      "outputs": [
        {
          "output_type": "stream",
          "name": "stdout",
          "text": [
            "enter a word to check if it is a python keyword : print\n",
            "print is not a python keyword\n"
          ]
        }
      ]
    },
    {
      "cell_type": "markdown",
      "source": [
        "5-  Create a list and tuple in Python, and demonstrate how attempting to change an element works differently\n",
        "for each?"
      ],
      "metadata": {
        "id": "dPpRVskWYU4i"
      }
    },
    {
      "cell_type": "code",
      "source": [
        "list1 = [3,'umair',27]\n",
        "print(list1)\n",
        "list1[1] = 'khan'\n",
        "print(list1)\n",
        "#below code with throw error as we cannot change the tuple values after it is created\n",
        "tuple1 = (3,'umair',27)\n",
        "print(tuple1)\n",
        "#tuple1(1) = 'khan'  Tuples are immutable.  This line causes an error.\n",
        "#print(tuple1)"
      ],
      "metadata": {
        "colab": {
          "base_uri": "https://localhost:8080/"
        },
        "id": "NfSJUqaDvWgn",
        "outputId": "1050c234-32d8-4a83-cd79-39634dc35155"
      },
      "execution_count": null,
      "outputs": [
        {
          "output_type": "stream",
          "name": "stdout",
          "text": [
            "[3, 'umair', 27]\n",
            "[3, 'khan', 27]\n",
            "(3, 'umair', 27)\n"
          ]
        }
      ]
    },
    {
      "cell_type": "markdown",
      "source": [
        "6- Write a function to demonstrate the behavior of mutable and immutable arguments.\n"
      ],
      "metadata": {
        "id": "3kgRuWSnCrKY"
      }
    },
    {
      "cell_type": "code",
      "source": [
        "def demonstrate_mutable_immutable():\n",
        "    # Immutable argument (integer)\n",
        "    immutable_arg = 10\n",
        "\n",
        "    # Mutable argument (list)\n",
        "    mutable_arg = [1, 2, 3]\n",
        "\n",
        "    # Printing original values\n",
        "    print(\"Before modification:\")\n",
        "    print(\"Immutable argument:\", immutable_arg)\n",
        "    print(\"Mutable argument:\", mutable_arg)\n",
        "\n",
        "    # Modifying the immutable argument (integer)\n",
        "    immutable_arg = immutable_arg + 5\n",
        "    # Modifying the mutable argument (list)\n",
        "    mutable_arg.append(4)\n",
        "\n",
        "    # Printing modified values\n",
        "    print(\"\\nAfter modification:\")\n",
        "    print(\"Immutable argument:\", immutable_arg)\n",
        "    print(\"Mutable argument:\", mutable_arg)\n",
        "\n",
        "\n",
        "# Call the function to demonstrate\n",
        "demonstrate_mutable_immutable()\n"
      ],
      "metadata": {
        "id": "oLIzDbblCriq"
      },
      "execution_count": null,
      "outputs": []
    },
    {
      "cell_type": "markdown",
      "source": [
        "7- Write a function to demonstrate the behavior of mutable and immutable arguments.\n"
      ],
      "metadata": {
        "id": "mkHkvpSzCsns"
      }
    },
    {
      "cell_type": "code",
      "source": [
        "def demonstrate_mutable_immutable():\n",
        "    # Immutable argument (integer)\n",
        "    immutable_arg = 10\n",
        "\n",
        "    # Mutable argument (list)\n",
        "    mutable_arg = [1, 2, 3]\n",
        "\n",
        "    # Printing original values\n",
        "    print(\"Before modification:\")\n",
        "    print(\"Immutable argument:\", immutable_arg)\n",
        "    print(\"Mutable argument:\", mutable_arg)\n",
        "\n",
        "    # Modifying the immutable argument (integer)\n",
        "    immutable_arg = immutable_arg + 5\n",
        "    # Modifying the mutable argument (list)\n",
        "    mutable_arg.append(4)\n",
        "\n",
        "    # Printing modified values\n",
        "    print(\"\\nAfter modification:\")\n",
        "    print(\"Immutable argument:\", immutable_arg)\n",
        "    print(\"Mutable argument:\", mutable_arg)\n",
        "\n",
        "\n",
        "# Call the function to demonstrate\n",
        "demonstrate_mutable_immutable()\n"
      ],
      "metadata": {
        "colab": {
          "base_uri": "https://localhost:8080/"
        },
        "id": "dB84qQFBCs9C",
        "outputId": "7b0fcb0e-3b2f-404f-b6b1-0f8b83835882"
      },
      "execution_count": 8,
      "outputs": [
        {
          "output_type": "stream",
          "name": "stdout",
          "text": [
            "Before modification:\n",
            "Immutable argument: 10\n",
            "Mutable argument: [1, 2, 3]\n",
            "\n",
            "After modification:\n",
            "Immutable argument: 15\n",
            "Mutable argument: [1, 2, 3, 4]\n"
          ]
        }
      ]
    },
    {
      "cell_type": "markdown",
      "source": [
        "8- Write a program to demonstrate the use of logical operators?\n"
      ],
      "metadata": {
        "id": "ga3fp9g5wVlz"
      }
    },
    {
      "cell_type": "code",
      "source": [
        "# Function to demonstrate the use of logical operators\n",
        "def logical_operators_demo(x, y):\n",
        "    # Using 'and' operator\n",
        "    if x > 10 and y > 10:\n",
        "        print(f\"Both x = {x} and y = {y} are greater than 10 (and operator).\")\n",
        "    else:\n",
        "        print(f\"At least one of x = {x} or y = {y} is not greater than 10 (and operator).\")\n",
        "\n",
        "    # Using 'or' operator\n",
        "    if x > 10 or y > 10:\n",
        "        print(f\"At least one of x = {x} or y = {y} is greater than 10 (or operator).\")\n",
        "    else:\n",
        "        print(f\"Neither x = {x} nor y = {y} is greater than 10 (or operator).\")\n",
        "\n",
        "    # Using 'not' operator\n",
        "    if not(x > 10):\n",
        "        print(f\"x = {x} is NOT greater than 10 (not operator).\")\n",
        "    else:\n",
        "        print(f\"x = {x} is greater than 10 (not operator).\")\n",
        "\n",
        "# Test the function with different values for x and y\n",
        "x = 15\n",
        "y = 5\n",
        "\n",
        "print(\"Testing with x = 15, y = 5:\")\n",
        "logical_operators_demo(x, y)\n",
        "\n",
        "print(\"\\nTesting with x = 5, y = 15:\")\n",
        "x = 5\n",
        "y = 15\n",
        "logical_operators_demo(x, y)\n",
        "\n",
        "print(\"\\nTesting with x = 5, y = 5:\")\n",
        "x = 5\n",
        "y = 5\n",
        "logical_operators_demo(x, y)\n"
      ],
      "metadata": {
        "colab": {
          "base_uri": "https://localhost:8080/"
        },
        "id": "5RBw8jflwW3x",
        "outputId": "ad36ae6d-a3c1-4660-c8ed-37d75b8f6cb0"
      },
      "execution_count": null,
      "outputs": [
        {
          "output_type": "stream",
          "name": "stdout",
          "text": [
            "Testing with x = 15, y = 5:\n",
            "At least one of x = 15 or y = 5 is not greater than 10 (and operator).\n",
            "At least one of x = 15 or y = 5 is greater than 10 (or operator).\n",
            "x = 15 is greater than 10 (not operator).\n",
            "\n",
            "Testing with x = 5, y = 15:\n",
            "At least one of x = 5 or y = 15 is not greater than 10 (and operator).\n",
            "At least one of x = 5 or y = 15 is greater than 10 (or operator).\n",
            "x = 5 is NOT greater than 10 (not operator).\n",
            "\n",
            "Testing with x = 5, y = 5:\n",
            "At least one of x = 5 or y = 5 is not greater than 10 (and operator).\n",
            "Neither x = 5 nor y = 5 is greater than 10 (or operator).\n",
            "x = 5 is NOT greater than 10 (not operator).\n"
          ]
        }
      ]
    },
    {
      "cell_type": "markdown",
      "source": [
        "9- Write a Python program to convert user input from string to integer, float, and boolean types?\n"
      ],
      "metadata": {
        "id": "7JSjbJ1BBUju"
      }
    },
    {
      "cell_type": "code",
      "source": [
        "input1=input(\"enter a number : \")\n",
        "integer_value=int(input1)\n",
        "float_value=float(input1)\n",
        "boolean_value=bool(input1)\n",
        "print(f\"integer value of {input1} is {integer_value}\")\n",
        "print(f\"float value of {input1} is {float_value}\")\n",
        "print(f\"boolean value of {input1} is {boolean_value}\")"
      ],
      "metadata": {
        "colab": {
          "base_uri": "https://localhost:8080/"
        },
        "id": "4RdBxIOTBZLP",
        "outputId": "c2a41e18-1560-4407-ae34-ccc9d3ac01d2"
      },
      "execution_count": 7,
      "outputs": [
        {
          "output_type": "stream",
          "name": "stdout",
          "text": [
            "enter a number : 123\n",
            "integer value of 123 is 123\n",
            "float value of 123 is 123.0\n",
            "boolean value of 123 is True\n"
          ]
        }
      ]
    },
    {
      "cell_type": "markdown",
      "source": [
        "10- Write code to demonstrate type casting with list elements?\n"
      ],
      "metadata": {
        "id": "pj3L_i3RAaTi"
      }
    },
    {
      "cell_type": "code",
      "source": [
        "# Creating a list with different types of elements\n",
        "my_list = [1, 2.5, \"10\", True]\n",
        "\n",
        "# Type casting examples:\n",
        "\n",
        "# Cast integer to float\n",
        "my_list[0] = float(my_list[0])\n",
        "print(\"After casting integer to float:\", my_list)\n",
        "\n",
        "# Cast float to integer\n",
        "my_list[1] = int(my_list[1])\n",
        "print(\"After casting float to integer:\", my_list)\n",
        "\n",
        "# Cast string to integer\n",
        "my_list[2] = int(my_list[2])\n",
        "print(\"After casting string to integer:\", my_list)\n",
        "\n",
        "# Cast boolean to integer\n",
        "my_list[3] = int(my_list[3])\n",
        "print(\"After casting boolean to integer:\", my_list)\n",
        "\n",
        "# Final list with all elements cast to different types\n",
        "print(\"Final list:\", my_list)\n"
      ],
      "metadata": {
        "colab": {
          "base_uri": "https://localhost:8080/"
        },
        "id": "xoxlADmJAc3P",
        "outputId": "eb5bc1ef-d9d3-4818-85be-c3408e073381"
      },
      "execution_count": 4,
      "outputs": [
        {
          "output_type": "stream",
          "name": "stdout",
          "text": [
            "After casting integer to float: [1.0, 2.5, '10', True]\n",
            "After casting float to integer: [1.0, 2, '10', True]\n",
            "After casting string to integer: [1.0, 2, 10, True]\n",
            "After casting boolean to integer: [1.0, 2, 10, 1]\n",
            "Final list: [1.0, 2, 10, 1]\n"
          ]
        }
      ]
    },
    {
      "cell_type": "markdown",
      "source": [],
      "metadata": {
        "id": "3dmdF4664xZ8"
      }
    },
    {
      "cell_type": "markdown",
      "source": [
        "11-Write a program that checks if a number is positive, negative, or zero?\n"
      ],
      "metadata": {
        "id": "3dBmoxEfaNBM"
      }
    },
    {
      "cell_type": "code",
      "source": [
        "num = input(\"enter a number : \")\n",
        "num= int(num)\n",
        "if num>0:\n",
        "  print(f\"{num} is positive\")\n",
        "elif num<0 :\n",
        "  print(f\"{num} is negative\")\n",
        "else :\n",
        "  print(f\"{num} is zero\")"
      ],
      "metadata": {
        "colab": {
          "base_uri": "https://localhost:8080/"
        },
        "id": "8TFc4QbhYunZ",
        "outputId": "fa8bf85b-053d-4fda-f0a1-e6ba24bc376a"
      },
      "execution_count": null,
      "outputs": [
        {
          "output_type": "stream",
          "name": "stdout",
          "text": [
            "enter a number : 6\n",
            "6 is positive\n"
          ]
        }
      ]
    },
    {
      "cell_type": "markdown",
      "source": [
        "12- Write a for loop to print numbers from 1 to 100?"
      ],
      "metadata": {
        "id": "k6ZQTJuDbSlJ"
      }
    },
    {
      "cell_type": "code",
      "source": [
        "num=1\n",
        "while num<=10 :\n",
        "  print(num)\n",
        "  num+=1"
      ],
      "metadata": {
        "colab": {
          "base_uri": "https://localhost:8080/"
        },
        "id": "jtNB1YPWajNd",
        "outputId": "1a4200da-400d-4e46-e4b6-a0bd02306d1b"
      },
      "execution_count": null,
      "outputs": [
        {
          "output_type": "stream",
          "name": "stdout",
          "text": [
            "1\n",
            "2\n",
            "3\n",
            "4\n",
            "5\n",
            "6\n",
            "7\n",
            "8\n",
            "9\n",
            "10\n"
          ]
        }
      ]
    },
    {
      "cell_type": "markdown",
      "source": [
        "\n",
        "\n",
        "```\n",
        "# This is formatted as code\n",
        "```\n",
        "\n",
        "13- Write a Python program to find the sum of all even numbers between 1 and 50?\n"
      ],
      "metadata": {
        "id": "auOk4iNechcU"
      }
    },
    {
      "cell_type": "code",
      "source": [
        "totalsum=0\n",
        "for i in range(1,51):\n",
        "  if i%2==0:\n",
        "    totalsum+=i\n",
        "print(f\"sum of all even numbers between 1 and 50 is {totalsum}\")"
      ],
      "metadata": {
        "id": "sMi0hfW6_ykn"
      },
      "execution_count": null,
      "outputs": []
    },
    {
      "cell_type": "markdown",
      "source": [
        "14- Write a program to reverse a string using a while loop?\n",
        "\n",
        "\n"
      ],
      "metadata": {
        "id": "3d_y9y3z-4D_"
      }
    },
    {
      "cell_type": "code",
      "source": [
        "string1=input(\"enter a string to reverse : \")\n",
        "\n",
        "reverse=\"\"\n",
        "i=len(string1)-1\n",
        "while i>=0:\n",
        "  reverse+=string1[i]\n",
        "  i-=1/\n",
        "print(f\"reverse of {string1} is {reverse}\")"
      ],
      "metadata": {
        "colab": {
          "base_uri": "https://localhost:8080/"
        },
        "id": "XzXmGr4i_EPU",
        "outputId": "b901f923-238b-47ef-9cd4-1af82a2ca333"
      },
      "execution_count": null,
      "outputs": [
        {
          "output_type": "stream",
          "name": "stdout",
          "text": [
            "enter a string to reverse : alpha\n",
            "reverse of alpha is ahpla\n"
          ]
        }
      ]
    },
    {
      "cell_type": "markdown",
      "source": [
        "15- Write a Python program to calculate the factorial of a number provided by the user using a while loop.\n"
      ],
      "metadata": {
        "id": "31e4DZwUeHTv"
      }
    },
    {
      "cell_type": "code",
      "source": [
        "def factorial1(number):\n",
        "  result=1\n",
        "\n",
        "  if number<0:\n",
        "   return (\" No factorial for negative number\")\n",
        "\n",
        "  while number>1:\n",
        "\n",
        "   result*=number\n",
        "   number-=1\n",
        "\n",
        "  return result\n",
        "\n",
        "\n",
        "num=int(input(\"enter a number : \"))\n",
        "print(f\"factorial of {num} is {factorial1(num)}\")\n",
        "\n"
      ],
      "metadata": {
        "colab": {
          "base_uri": "https://localhost:8080/"
        },
        "id": "CZfeX8UodVqt",
        "outputId": "04143943-d1fd-429f-b08a-45a2b270d09f"
      },
      "execution_count": null,
      "outputs": [
        {
          "output_type": "stream",
          "name": "stdout",
          "text": [
            "enter a number : 5\n",
            "factorial of 5 is 120\n"
          ]
        }
      ]
    }
  ]
}